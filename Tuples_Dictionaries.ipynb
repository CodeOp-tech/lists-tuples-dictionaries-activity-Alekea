{
 "cells": [
  {
   "cell_type": "markdown",
   "metadata": {},
   "source": [
    "## Scoreboard"
   ]
  },
  {
   "cell_type": "markdown",
   "metadata": {},
   "source": [
    "INSTRUCTIONS:\n",
    "For this exercise we will work with a\n",
    "\"scoreboard\" for an imaginary game.\n",
    "You will be required to write functions\n",
    "that operate on the \"scoreboard\" data\n",
    "structure and compute certain results."
   ]
  },
  {
   "cell_type": "markdown",
   "metadata": {},
   "source": [
    "For these functions, the \"scoreboard\"\n",
    "will be a list of tuples, where each\n",
    "tuple is of the form (str, int)\n",
    "representing (player_name, score)\n",
    "\n",
    "For example:\n",
    "[('kewld00d1', 100), ('pumpkin', 550)]"
   ]
  },
  {
   "cell_type": "code",
   "execution_count": 23,
   "metadata": {},
   "outputs": [
    {
     "data": {
      "text/plain": [
       "[('player1', 100)]"
      ]
     },
     "execution_count": 23,
     "metadata": {},
     "output_type": "execute_result"
    }
   ],
   "source": [
    "scores = [(\"player1\", 100), (\"player2\", 85), (\"player3\", 68)]     \n",
    "    "
   ]
  },
  {
   "cell_type": "code",
   "execution_count": 21,
   "metadata": {},
   "outputs": [
    {
     "data": {
      "text/plain": [
       "[100]"
      ]
     },
     "execution_count": 21,
     "metadata": {},
     "output_type": "execute_result"
    }
   ],
   "source": []
  },
  {
   "cell_type": "markdown",
   "metadata": {},
   "source": [
    "#### get_scores\n",
    "Create a function \"get_scores\"\n",
    "that has one parameter, the scoreboard,\n",
    "and returns a list of the same size\n",
    "with just the scores for each player\n",
    "(a list of ints)"
   ]
  },
  {
   "cell_type": "code",
   "execution_count": 3,
   "metadata": {},
   "outputs": [
    {
     "name": "stdout",
     "output_type": "stream",
     "text": [
      "[100, 85, 68]\n"
     ]
    }
   ],
   "source": [
    "def get_scores(scoreboard):\n",
    "    return[score for name, score in scoreboard]\n",
    "        \n",
    "scores = [(\"player1\", 100), (\"player2\", 85), (\"player3\", 68)]      \n",
    "board = get_scores(scores)\n",
    "print(board)"
   ]
  },
  {
   "cell_type": "markdown",
   "metadata": {},
   "source": [
    "#### top_score\n",
    "\n",
    "Create a function \"top_score\"\n",
    "that has one parameter, the scoreboard,\n",
    "and returns an int, the highest score\n",
    "on the scoreboard"
   ]
  },
  {
   "cell_type": "code",
   "execution_count": 28,
   "metadata": {},
   "outputs": [
    {
     "data": {
      "text/plain": [
       "100"
      ]
     },
     "execution_count": 28,
     "metadata": {},
     "output_type": "execute_result"
    }
   ],
   "source": [
    "def top_score(scoreboard):\n",
    "    max_score = scoreboard[0][1]\n",
    "    for name, score in scoreboard:\n",
    "        if score > max_score:\n",
    "            max_score = score\n",
    "    return max_score\n",
    "top_score(scores)\n",
    "   "
   ]
  },
  {
   "cell_type": "markdown",
   "metadata": {},
   "source": [
    "#### top_player\n",
    "Create a function \"top_player\"\n",
    "that has one parameter, the scoreboard,\n",
    "and returns the player_name that has\n",
    "the highest score"
   ]
  },
  {
   "cell_type": "code",
   "execution_count": 30,
   "metadata": {},
   "outputs": [
    {
     "data": {
      "text/plain": [
       "'player1'"
      ]
     },
     "execution_count": 30,
     "metadata": {},
     "output_type": "execute_result"
    }
   ],
   "source": [
    "def top_player(scoreboard):\n",
    "    max_score = scoreboard[0][1]\n",
    "    top_name = scoreboard[0][0]\n",
    "    for name, score in scoreboard:\n",
    "        if score > max_score:\n",
    "            max_score = score\n",
    "            top_name = name\n",
    "    return top_name\n",
    "\n",
    "top_player(scores)"
   ]
  },
  {
   "cell_type": "markdown",
   "metadata": {},
   "source": [
    "#### top_player_from_dict\n",
    "Create a function \"top_player_from_dict\"\n",
    "that has one parameter, the scoreboard,\n",
    "and returns the player_name that has\n",
    "the highest score"
   ]
  },
  {
   "cell_type": "markdown",
   "metadata": {},
   "source": [
    "Now, the \"scoreboard\"\n",
    "will be a list of dictionaries, where each\n",
    "dictionary represents information\n",
    "about a single player.\n",
    "\n",
    "The keys of the dictionary are:\n",
    "\"player\", \"score\", \"country\", \"levels\"\n",
    "\n",
    "For example, one dictionary:\n",
    "\n",
    "{\n",
    "   'player': 'tr0llhuntah',\n",
    "   'score': 200,\n",
    "   'country': 'no',\n",
    "   'levels': ['Choco Mountain', 'Rainbow Road']\n",
    "}"
   ]
  },
  {
   "cell_type": "code",
   "execution_count": 22,
   "metadata": {},
   "outputs": [
    {
     "data": {
      "text/plain": [
       "'Player2'"
      ]
     },
     "execution_count": 22,
     "metadata": {},
     "output_type": "execute_result"
    }
   ],
   "source": [
    "scoreboard = [\n",
    "    {\"Player\": \"Player1\", \"score\": 85, \"country\":\"Switzerland\", \"levels\":[\"Choco\", \"Mountain\", \"Rain\", \"bow2\"]},\n",
    "    {\"Player\": \"Player2\", \"score\": 175, \"country\":\"Rwanda\", \"levels\":[\"Mountain\", \"Rain\", \"bow2\"]}, \n",
    "    {\"Player\": \"Player3\", \"score\": 153, \"country\":\"Denmark\", \"levels\":[\"Blue\", \"Mountain\",\"Rain\", \"bow3\"]}]\n",
    "\n",
    "\n",
    "def top_player_from_dict(scoreboard):\n",
    "    highest_score = scoreboard[0][\"score\"]\n",
    "    highest_scorer_name = scoreboard[0][\"Player\"]\n",
    "    for element in scoreboard:\n",
    "        score = element[\"score\"]\n",
    "        name = element[\"Player\"]\n",
    "        if score > highest_score:\n",
    "            highest_score = score\n",
    "            highest_scorer_name = name\n",
    "    return highest_scorer_name\n",
    "\n",
    "top_player_from_dict(scoreboard)\n",
    "\n",
    "\n",
    "#scoreboard_dict[\"Player1\"]\n",
    "#scoreboard_dict[\"Player4\"] = {\"score\": 195, \"country\":\"Holland\", \"levels\":[\"Choco\", \"Mountain\", \"Rain\"]}\n",
    "#print(scoreboard_dict)\n"
   ]
  },
  {
   "cell_type": "code",
   "execution_count": 20,
   "metadata": {},
   "outputs": [
    {
     "name": "stdout",
     "output_type": "stream",
     "text": [
      "dict_items([('Player1', {'score': 85, 'country': 'Swiss', 'levels': ['Choco', 'Mountain', 'Rain', 'bow2']}), ('Player2', {'score': 175, 'country': 'Rwanda', 'levels': ['Mountain', 'Rain', 'bow2']}), ('Player3', {'score': 153, 'country': 'Denmark', 'levels': ['Blue', 'Mountain', 'Rain', 'bow3']})])\n"
     ]
    }
   ],
   "source": [
    "    \n",
    "scoreboard_dict = {\"Player1\": {\"score\": 85, \"country\":\"Swiss\", \"levels\":[\"Choco\", \"Mountain\", \"Rain\", \"bow2\"]},\n",
    "                   \"Player2\":{\"score\": 175, \"country\":\"Rwanda\", \"levels\":[\"Mountain\", \"Rain\", \"bow2\"]}, \n",
    "                   \"Player3\":{\"score\": 153, \"country\":\"Denmark\", \"levels\":[\"Blue\", \"Mountain\",\"Rain\", \"bow3\"]}}\n",
    "print(scoreboard_dict.items())"
   ]
  },
  {
   "cell_type": "markdown",
   "metadata": {},
   "source": [
    "#### get_good_players\n",
    "Create a function \"get_good_players\"\n",
    "that has two parameters:\n",
    "1. scoreboard\n",
    "2. an int (limit)\n",
    "\n",
    "\"get_good_players\" returns a list of\n",
    "strings, with the names of the players\n",
    "who have a score greater than or equal to\n",
    "limit."
   ]
  },
  {
   "cell_type": "code",
   "execution_count": 23,
   "metadata": {},
   "outputs": [
    {
     "name": "stdout",
     "output_type": "stream",
     "text": [
      "['Player2', 'Player3']\n"
     ]
    }
   ],
   "source": [
    "def get_good_players(scoreboard,cutoff_points):\n",
    "    good_players = []\n",
    "    for element in scoreboard:\n",
    "        score = element[\"score\"]\n",
    "        name = element[\"Player\"] \n",
    "        if score >= cutoff_points:\n",
    "            good_players.append(name)\n",
    "    return good_players\n",
    "\n",
    "scoreboard = [\n",
    "    {\"Player\": \"Player1\", \"score\": 85, \"country\":\"Switzerland\", \"levels\":[\"Choco\", \"Mountain\", \"Rain\", \"bow2\"]},\n",
    "    {\"Player\": \"Player2\", \"score\": 175, \"country\":\"Rwanda\", \"levels\":[\"Mountain\", \"Rain\", \"bow2\"]}, \n",
    "    {\"Player\": \"Player3\", \"score\": 153, \"country\":\"Denmark\", \"levels\":[\"Blue\", \"Mountain\",\"Rain\", \"bow3\"]}]\n",
    "print(get_good_players(scoreboard, 100))\n",
    "\n",
    "            # append name of good player to the empty list\n",
    "            # return list of good players"
   ]
  },
  {
   "cell_type": "markdown",
   "metadata": {},
   "source": [
    "#### top_player_by_country\n",
    "\n",
    "Create a function \"top_player_by_country\"\n",
    "that has two parameters:\n",
    "1. scoreboard\n",
    "2. a string (country)\n",
    "\n",
    "\"top_player_by_country\" returns a string\n",
    "with the name of the player with the highest\n",
    "score in the provided country."
   ]
  },
  {
   "cell_type": "code",
   "execution_count": 7,
   "metadata": {},
   "outputs": [
    {
     "name": "stdout",
     "output_type": "stream",
     "text": [
      "('Player4', 187)\n"
     ]
    }
   ],
   "source": [
    "def top_player_by_country(scoreboard, country1):\n",
    "    highest_score = -1\n",
    "    highest_scorer_name = None       \n",
    "    for element in scoreboard:\n",
    "        score = element[\"score\"]\n",
    "        name = element[\"Player\"]\n",
    "        country = element[\"country\"]\n",
    "        if score > highest_score and country == country1:\n",
    "                highest_score = score\n",
    "                highest_scorer_name = name\n",
    "    return (highest_scorer_name, highest_score)\n",
    "   \n",
    "scoreboard = [\n",
    "    {\"Player\": \"Player1\", \"score\": 85, \"country\":\"Switzerland\", \"levels\":[\"Choco\", \"Mountain\", \"Rain\", \"bow2\", \"Clouds\"]},\n",
    "    {\"Player\": \"Player2\", \"score\": 175, \"country\":\"Rwanda\", \"levels\":[\"Mountain\", \"Rain\", \"bow2\"]}, \n",
    "    {\"Player\": \"Player3\", \"score\": 153, \"country\":\"Denmark\", \"levels\":[\"Blue\", \"Mountain\",\"Rain\", \"bow3\"]},\n",
    "    {\"Player\": \"Player4\", \"score\": 187, \"country\":\"Denmark\", \"levels\":[\"Blue\", \"Mountain\",\"Rain\", \"bow3\"]} ]\n",
    "\n",
    "print(top_player_by_country(scoreboard, \"Denmark\")) \n",
    "            "
   ]
  },
  {
   "cell_type": "markdown",
   "metadata": {},
   "source": [
    "#### most_levels_played\n",
    "\n",
    "Create a function \"most_levels_played\"\n",
    "that has one parameter: \"scoreboard\".\n",
    "and returns a tuple (str, int) with the name of\n",
    "the player that has played the most levels\n",
    "and the number of levels they played"
   ]
  },
  {
   "cell_type": "code",
   "execution_count": 8,
   "metadata": {},
   "outputs": [
    {
     "name": "stdout",
     "output_type": "stream",
     "text": [
      "('Player1', 5)\n"
     ]
    }
   ],
   "source": [
    "def most_levels_played(scoreboard):\n",
    "    most_levels_played = 0\n",
    "    name_of_player = None\n",
    "    for element in scoreboard:\n",
    "        name = element[\"Player\"]\n",
    "        level = element[\"levels\"]\n",
    "        if len(level) > most_levels_played:\n",
    "            most_levels_played = len(level)\n",
    "            name_of_player = name\n",
    "    return name_of_player, most_levels_played\n",
    "\n",
    "#print(scoreboard)\n",
    "print(most_levels_played(scoreboard))\n",
    "            \n",
    "   \n",
    "    "
   ]
  },
  {
   "cell_type": "markdown",
   "metadata": {},
   "source": [
    "#### played_levels\n",
    "Create a function \"played_levels\"\n",
    "that has one parameter: \"scoreboard\".\n",
    "and returns a list of strings with the\n",
    "names of all the levels that have been\n",
    "played by any user.\n",
    "\n",
    "The list of levels can have duplicates."
   ]
  },
  {
   "cell_type": "code",
   "execution_count": 9,
   "metadata": {},
   "outputs": [
    {
     "name": "stdout",
     "output_type": "stream",
     "text": [
      "[['Choco', 'Mountain', 'Rain', 'bow2', 'Clouds'], ['Mountain', 'Rain', 'bow2'], ['Blue', 'Mountain', 'Rain', 'bow3'], ['Blue', 'Mountain', 'Rain', 'bow3']]\n"
     ]
    }
   ],
   "source": [
    "def played_levels(scoreboard):\n",
    "    levels_list = []\n",
    "    for element in scoreboard:\n",
    "        levels = element[\"levels\"]\n",
    "        levels_list.append(levels)\n",
    "    return levels_list\n",
    "\n",
    "print(played_levels(scoreboard))\n",
    "        "
   ]
  },
  {
   "cell_type": "code",
   "execution_count": null,
   "metadata": {},
   "outputs": [],
   "source": []
  }
 ],
 "metadata": {
  "kernelspec": {
   "display_name": "Python 3 (ipykernel)",
   "language": "python",
   "name": "python3"
  },
  "language_info": {
   "codemirror_mode": {
    "name": "ipython",
    "version": 3
   },
   "file_extension": ".py",
   "mimetype": "text/x-python",
   "name": "python",
   "nbconvert_exporter": "python",
   "pygments_lexer": "ipython3",
   "version": "3.10.9"
  }
 },
 "nbformat": 4,
 "nbformat_minor": 4
}
